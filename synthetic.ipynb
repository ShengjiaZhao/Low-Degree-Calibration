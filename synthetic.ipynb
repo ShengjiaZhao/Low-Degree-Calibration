{
 "cells": [
  {
   "cell_type": "code",
   "execution_count": 1,
   "id": "parental-termination",
   "metadata": {},
   "outputs": [],
   "source": [
    "import sys\n",
    "sys.path.append('../torchuq_dev')\n",
    "import torchuq\n",
    "from torchuq.dataset.classification import get_classification_datasets"
   ]
  },
  {
   "cell_type": "code",
   "execution_count": 2,
   "id": "going-province",
   "metadata": {},
   "outputs": [],
   "source": [
    "import torch\n",
    "from torch import nn\n",
    "from torch.nn import functional as F\n",
    "from torch.utils.data import DataLoader\n",
    "from synthetic import *\n",
    "device = torch.device('cpu')"
   ]
  },
  {
   "cell_type": "code",
   "execution_count": 3,
   "id": "cultural-senator",
   "metadata": {},
   "outputs": [
    {
     "name": "stdout",
     "output_type": "stream",
     "text": [
      "Loading dataset adult....\n",
      "Splitting into train/val/test with 32561/0/0 samples\n",
      "Done loading dataset adult\n"
     ]
    }
   ],
   "source": [
    "train_dataset, _, _ = get_classification_datasets('adult', val_fraction=0.0, test_fraction=0.0)\n",
    "data_loader = DataLoader(train_dataset, batch_size=32)\n"
   ]
  },
  {
   "cell_type": "code",
   "execution_count": 6,
   "id": "baking-enclosure",
   "metadata": {},
   "outputs": [
    {
     "name": "stdout",
     "output_type": "stream",
     "text": [
      "torch.Size([32, 105]) torch.Size([32])\n",
      "tensor([0, 0, 0, 0, 1, 0, 0, 0, 1, 0, 0, 0, 1, 0, 0, 1, 0, 0, 0, 0, 0, 1, 1, 0,\n",
      "        0, 1, 0, 0, 0, 0, 0, 0], dtype=torch.int32)\n"
     ]
    }
   ],
   "source": [
    "bx, by = iter(data_loader).next()\n",
    "print(bx.shape, by.shape)\n",
    "print(by)\n",
    "x_dim = bx.shape[1] "
   ]
  },
  {
   "cell_type": "code",
   "execution_count": 10,
   "id": "honey-vault",
   "metadata": {},
   "outputs": [
    {
     "name": "stdout",
     "output_type": "stream",
     "text": [
      "Epoch [1 / 50] average reconstruction error: 3142.500284\n"
     ]
    },
    {
     "data": {
      "image/png": "[encoded data removed]",
      "text/plain": [
       "<Figure size 432x288 with 1 Axes>"
      ]
     },
     "metadata": {
      "needs_background": "light"
     },
     "output_type": "display_data"
    },
    {
     "name": "stdout",
     "output_type": "stream",
     "text": [
      "Epoch [11 / 50] average reconstruction error: 2382.682491\n"
     ]
    },
    {
     "data": {
      "image/png": "[encoded data removed]",
      "text/plain": [
       "<Figure size 432x288 with 1 Axes>"
      ]
     },
     "metadata": {
      "needs_background": "light"
     },
     "output_type": "display_data"
    },
    {
     "name": "stdout",
     "output_type": "stream",
     "text": [
      "Epoch [21 / 50] average reconstruction error: 2211.344324\n"
     ]
    },
    {
     "data": {
      "image/png": "[encoded data removed]",
      "text/plain": [
       "<Figure size 432x288 with 1 Axes>"
      ]
     },
     "metadata": {
      "needs_background": "light"
     },
     "output_type": "display_data"
    },
    {
     "name": "stdout",
     "output_type": "stream",
     "text": [
      "Epoch [31 / 50] average reconstruction error: 2129.293537\n"
     ]
    },
    {
     "data": {
      "image/png": "[encoded data removed]",
      "text/plain": [
       "<Figure size 432x288 with 1 Axes>"
      ]
     },
     "metadata": {
      "needs_background": "light"
     },
     "output_type": "display_data"
    },
    {
     "name": "stdout",
     "output_type": "stream",
     "text": [
      "Epoch [41 / 50] average reconstruction error: 2086.241762\n"
     ]
    },
    {
     "data": {
      "image/png": "[encoded data removed]",
      "text/plain": [
       "<Figure size 432x288 with 1 Axes>"
      ]
     },
     "metadata": {
      "needs_background": "light"
     },
     "output_type": "display_data"
    }
   ],
   "source": [
    "learning_rate = 0.001 # For optimizer (SGD or Adam)\n",
    "weight_decay = 1e-5   # For optimizer (SGD or Adam)\n",
    "epochs = 50          \n",
    "\n",
    "from torch import optim \n",
    "\n",
    "\n",
    "def vae_loss(image, reconstruction, mu, logvar):\n",
    "    \"\"\"Loss for the Variational AutoEncoder.\"\"\"\n",
    "    # Binary Cross Entropy for batch\n",
    "    BCE = (reconstruction - image).pow(2).sum()\n",
    "    # Closed-form KL Divergence\n",
    "    KLD = 0.5 * torch.sum(1 + logvar - mu.pow(2) - logvar.exp())\n",
    "    return BCE - KLD\n",
    "\n",
    "# Instantiate VAE with Adam optimizer\n",
    "vae = VAE(x_dim=x_dim)\n",
    "vae = vae.to(device)    # send weights to GPU. Do this BEFORE defining Optimizer\n",
    "optimizer = optim.Adam(params=vae.parameters(), lr=learning_rate, weight_decay=weight_decay)\n",
    "vae.train()            # tell the network to be in training mode. Useful to activate Dropout layers & other stuff\n",
    "\n",
    "# Train\n",
    "losses = []\n",
    "\n",
    "for epoch in range(epochs):\n",
    "    # Store training losses & instantiate batch counter\n",
    "    losses.append(0)\n",
    "    number_of_batches = 0\n",
    "\n",
    "    # Grab the batch, we are only interested in images not on their labels\n",
    "    for images, _ in data_loader:\n",
    "        # Save batch to GPU, remove existing gradients from previous iterations\n",
    "        images = images.to(device)\n",
    "        optimizer.zero_grad()\n",
    "\n",
    "        # Feed images to VAE. Compute Loss.\n",
    "        reconstructions, latent_mu, latent_logvar = vae(images)\n",
    "        loss = vae_loss(images, reconstructions, latent_mu, latent_logvar)\n",
    "\n",
    "        # Backpropagate the loss & perform optimization step with such gradients\n",
    "        loss.backward()\n",
    "        optimizer.step()\n",
    "\n",
    "        # Add loss to the cumulative sum\n",
    "        losses[-1] += loss.item()  \n",
    "        number_of_batches += 1\n",
    "\n",
    "    # Update average loss & Log information\n",
    "    losses[-1] /= number_of_batches\n",
    "    \n",
    "    if epoch % 10 == 0:\n",
    "        print('Epoch [%d / %d] average reconstruction error: %f' % (epoch+1, epochs, losses[-1]))    \n",
    "\n",
    "        new_samples = vae.generate(1000)\n",
    "\n",
    "        from matplotlib import pyplot as plt\n",
    "        plt.hist(new_samples[:, 0].detach().numpy(), density=True, alpha=0.5)\n",
    "        plt.hist(train_dataset[:][0][:, 0].numpy(), density=True, alpha=0.5)\n",
    "        plt.show()"
   ]
  },
  {
   "cell_type": "code",
   "execution_count": 11,
   "id": "welsh-blair",
   "metadata": {},
   "outputs": [
    {
     "name": "stderr",
     "output_type": "stream",
     "text": [
      "/sailhome/zhaosj12/.pyenv/versions/3.8.3/lib/python3.8/site-packages/torch/nn/functional.py:1709: UserWarning: nn.functional.sigmoid is deprecated. Use torch.sigmoid instead.\n",
      "  warnings.warn(\"nn.functional.sigmoid is deprecated. Use torch.sigmoid instead.\")\n"
     ]
    },
    {
     "name": "stdout",
     "output_type": "stream",
     "text": [
      "tensor(0.3297, grad_fn=<AddBackward0>)\n",
      "tensor(0.3115, grad_fn=<AddBackward0>)\n",
      "tensor(0.3044, grad_fn=<AddBackward0>)\n",
      "tensor(0.3008, grad_fn=<AddBackward0>)\n",
      "tensor(0.3003, grad_fn=<AddBackward0>)\n",
      "tensor(0.3053, grad_fn=<AddBackward0>)\n",
      "tensor(0.3112, grad_fn=<AddBackward0>)\n",
      "tensor(0.3107, grad_fn=<AddBackward0>)\n",
      "tensor(0.3064, grad_fn=<AddBackward0>)\n",
      "tensor(0.3090, grad_fn=<AddBackward0>)\n",
      "tensor(0.3030, grad_fn=<AddBackward0>)\n",
      "tensor(0.2917, grad_fn=<AddBackward0>)\n",
      "tensor(0.2835, grad_fn=<AddBackward0>)\n",
      "tensor(0.2772, grad_fn=<AddBackward0>)\n",
      "tensor(0.2767, grad_fn=<AddBackward0>)\n",
      "tensor(0.2740, grad_fn=<AddBackward0>)\n",
      "tensor(0.2769, grad_fn=<AddBackward0>)\n",
      "tensor(0.2746, grad_fn=<AddBackward0>)\n",
      "tensor(0.2758, grad_fn=<AddBackward0>)\n",
      "tensor(0.2742, grad_fn=<AddBackward0>)\n",
      "tensor(0.2726, grad_fn=<AddBackward0>)\n",
      "tensor(0.2672, grad_fn=<AddBackward0>)\n",
      "tensor(0.2688, grad_fn=<AddBackward0>)\n",
      "tensor(0.2657, grad_fn=<AddBackward0>)\n",
      "tensor(0.2668, grad_fn=<AddBackward0>)\n",
      "tensor(0.2643, grad_fn=<AddBackward0>)\n",
      "tensor(0.2666, grad_fn=<AddBackward0>)\n",
      "tensor(0.2625, grad_fn=<AddBackward0>)\n",
      "tensor(0.2625, grad_fn=<AddBackward0>)\n",
      "tensor(0.2685, grad_fn=<AddBackward0>)\n"
     ]
    }
   ],
   "source": [
    "\n",
    "import time\n",
    "start_time = time.time() \n",
    "\n",
    "criterion = nn.CrossEntropyLoss()\n",
    "net = NetworkFC(x_dim=x_dim).to(device)\n",
    "optim = torch.optim.Adam(net.parameters(), lr=1e-3) \n",
    "for epoch in range(30):\n",
    "    for bx, by in data_loader:\n",
    "        bx = bx.to(device)\n",
    "        by = by.to(device).to(torch.float32)\n",
    "        optim.zero_grad()\n",
    "\n",
    "        pred = net(bx)\n",
    "        loss = pred.pow(2).mean() * 0.02\n",
    "        loss += F.binary_cross_entropy(input=F.sigmoid(pred).flatten(), target=by)\n",
    "        loss.backward()\n",
    "        optim.step()\n",
    "        \n",
    "    print(loss)\n",
    "    # print(((outcome0 - cur_pred) * (category * 2 - 1)).mean()"
   ]
  },
  {
   "cell_type": "code",
   "execution_count": 12,
   "id": "absent-skiing",
   "metadata": {},
   "outputs": [],
   "source": [
    "synthetic_data = SyntheticDataset(vae, net)"
   ]
  },
  {
   "cell_type": "code",
   "execution_count": 13,
   "id": "international-colorado",
   "metadata": {},
   "outputs": [],
   "source": [
    "import pickle \n",
    "torch.save(synthetic_data, 'dataset_adult.pt')\n"
   ]
  },
  {
   "cell_type": "code",
   "execution_count": 14,
   "id": "specialized-baseball",
   "metadata": {},
   "outputs": [
    {
     "data": {
      "text/plain": [
       "(tensor([[-0.1324, -0.3808, -0.8429,  ...,  0.8480,  0.6150,  0.0953],\n",
       "         [ 0.6711, -0.3060, -0.8855,  ...,  0.4919, -0.4209, -0.0529],\n",
       "         [-0.0854, -0.1276, -1.0294,  ...,  0.2574, -0.8516, -0.4783],\n",
       "         ...,\n",
       "         [ 1.0326, -0.0447,  0.2515,  ...,  0.0147,  0.4344, -1.2067],\n",
       "         [ 0.5746, -0.5387, -0.8358,  ...,  0.6220,  2.4062,  2.9809],\n",
       "         [ 0.6406,  0.1547, -0.6701,  ...,  0.8733, -0.2799,  0.2455]]),\n",
       " tensor([[0.1376],\n",
       "         [0.1010],\n",
       "         [0.1117],\n",
       "         [0.2706],\n",
       "         [0.3934],\n",
       "         [0.4058],\n",
       "         [0.0767],\n",
       "         [0.7599],\n",
       "         [0.0722],\n",
       "         [0.3959]]))"
      ]
     },
     "execution_count": 14,
     "metadata": {},
     "output_type": "execute_result"
    }
   ],
   "source": [
    "dataset = torch.load('dataset_adult.pt')\n",
    "dataset.generate(10)"
   ]
  },
  {
   "cell_type": "code",
   "execution_count": null,
   "id": "yellow-favor",
   "metadata": {},
   "outputs": [],
   "source": []
  }
 ],
 "metadata": {
  "kernelspec": {
   "display_name": "Python 3",
   "language": "python",
   "name": "python3"
  },
  "language_info": {
   "codemirror_mode": {
    "name": "ipython",
    "version": 3
   },
   "file_extension": ".py",
   "mimetype": "text/x-python",
   "name": "python",
   "nbconvert_exporter": "python",
   "pygments_lexer": "ipython3",
   "version": "3.8.3"
  }
 },
 "nbformat": 4,
 "nbformat_minor": 5
}
